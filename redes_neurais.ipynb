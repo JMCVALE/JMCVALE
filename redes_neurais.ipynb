{
  "nbformat": 4,
  "nbformat_minor": 0,
  "metadata": {
    "colab": {
      "provenance": [],
      "toc_visible": true,
      "include_colab_link": true
    },
    "kernelspec": {
      "name": "python3",
      "display_name": "Python 3"
    },
    "language_info": {
      "name": "python"
    }
  },
  "cells": [
    {
      "cell_type": "markdown",
      "metadata": {
        "id": "view-in-github",
        "colab_type": "text"
      },
      "source": [
        "<a href=\"https://colab.research.google.com/github/JMCVALE/JMCVALE/blob/main/redes_neurais.ipynb\" target=\"_parent\"><img src=\"https://colab.research.google.com/assets/colab-badge.svg\" alt=\"Open In Colab\"/></a>"
      ]
    },
    {
      "cell_type": "markdown",
      "source": [
        "# **Implementando Lógica de Inferência das Redes Neurais (Forward Propagation)**"
      ],
      "metadata": {
        "id": "InItnm8IuB9N"
      }
    },
    {
      "cell_type": "markdown",
      "source": [
        "## Definição de dados síntéticos"
      ],
      "metadata": {
        "id": "BgBwryiwuYcl"
      }
    },
    {
      "cell_type": "markdown",
      "source": [
        "Aqui inicia os dados sintéticos, por isso cria uma lista vazia e depois 56 tuplas"
      ],
      "metadata": {
        "id": "pq8pFs1Yfj5e"
      }
    },
    {
      "cell_type": "code",
      "execution_count": 42,
      "metadata": {
        "id": "qs-Kt7VRN8Sx"
      },
      "outputs": [],
      "source": [
        "data = []"
      ]
    },
    {
      "cell_type": "code",
      "source": [
        "data.append((8.2, 0.45, 1.0))\n",
        "data.append((9.4, 1.3, 1.0))\n",
        "data.append((10.1, 2.1, 1.0))\n",
        "data.append((8.4, 1.7, 1.0))\n",
        "data.append((7.5, 2.3, 1.0))\n",
        "data.append((9.0, 2.5, 1.0))\n",
        "data.append((9.7, 2.9, 1.0))\n",
        "data.append((8.4, 4.6, 1.0))\n",
        "data.append((7.5, 5.0, 1.0))\n",
        "data.append((9.0, 4.7, 1.0))\n",
        "data.append((9.4, 4.9, 1.0))\n",
        "data.append((9.7, 5.9, 1.0))\n",
        "data.append((8.3, 6.2, 1.0))\n",
        "data.append((7.6, 6.0, 1.0))\n",
        "data.append((7.8, 3.5, 1.0))\n",
        "data.append((7.0, 4.0, 1.0))\n",
        "data.append((6.5, 5.0, 1.0))\n",
        "data.append((5.8, 5.3, 1.0))\n",
        "data.append((4.8, 5.6, 1.0))\n",
        "data.append((3.8, 5.9, 1.0))\n",
        "data.append((3.0, 6.4, 1.0))\n",
        "data.append((1.8, 6.2, 1.0))\n",
        "data.append((3.8, 7.1, 1.0))\n",
        "data.append((5.8, 6.9, 1.0))\n",
        "data.append((2.5, 8.0, 1.0))\n",
        "data.append((5.0, 8.2, 1.0))\n",
        "data.append((7.4, 8.4, 1.0))\n",
        "data.append((8.5, 7.3, 1.0))\n",
        "data.append((10.0, 7.1, 1.0))\n",
        "data.append((1.0, 7.2, 1.0))\n",
        "data.append((0.4, 7.6, 1.0))\n",
        "data.append((2.0, 1.0, 0.0))\n",
        "data.append((4.2, 0.95, 0.0))\n",
        "data.append((6.0, 0.98, 0.0))\n",
        "data.append((7.3, 0.5, 0.0))\n",
        "data.append((6.7, 2.0, 0.0))\n",
        "data.append((6.4, 3.0, 0.0))\n",
        "data.append((6.2, 4.0, 0.0))\n",
        "data.append((5.0, 4.5, 0.0))\n",
        "data.append((4.0, 4.9, 0.0))\n",
        "data.append((3.0, 5.1, 0.0))\n",
        "data.append((2.3, 5.5, 0.0))\n",
        "data.append((1.7, 4.5, 0.0))\n",
        "data.append((5.5, 3.5, 0.0))\n",
        "data.append((4.5, 3.9, 0.0))\n",
        "data.append((3.5, 4.1, 0.0))\n",
        "data.append((2.8, 4.6, 0.0))\n",
        "data.append((4.0, 2.5, 0.0))\n",
        "data.append((3.0, 2.9, 0.0))\n",
        "data.append((2.0, 3.1, 0.0))\n",
        "data.append((1.3, 3.6, 0.0))\n",
        "data.append((5.3, 2.2, 0.0))\n",
        "data.append((1.2, 2.0, 0.0))\n",
        "data.append((3.0, 1.5, 0.0))\n",
        "data.append((0.7, 5.6, 0.0))\n",
        "data.append((0.4, 6.5, 0.0))"
      ],
      "metadata": {
        "id": "N6zPWkFrOBbJ"
      },
      "execution_count": 43,
      "outputs": []
    },
    {
      "cell_type": "code",
      "source": [
        "print(len(data))\n",
        "print(data)"
      ],
      "metadata": {
        "colab": {
          "base_uri": "https://localhost:8080/"
        },
        "id": "8YdhwHvvfr5K",
        "outputId": "bfb6290a-6208-4870-b471-7c5306b10402"
      },
      "execution_count": 44,
      "outputs": [
        {
          "output_type": "stream",
          "name": "stdout",
          "text": [
            "56\n",
            "[(8.2, 0.45, 1.0), (9.4, 1.3, 1.0), (10.1, 2.1, 1.0), (8.4, 1.7, 1.0), (7.5, 2.3, 1.0), (9.0, 2.5, 1.0), (9.7, 2.9, 1.0), (8.4, 4.6, 1.0), (7.5, 5.0, 1.0), (9.0, 4.7, 1.0), (9.4, 4.9, 1.0), (9.7, 5.9, 1.0), (8.3, 6.2, 1.0), (7.6, 6.0, 1.0), (7.8, 3.5, 1.0), (7.0, 4.0, 1.0), (6.5, 5.0, 1.0), (5.8, 5.3, 1.0), (4.8, 5.6, 1.0), (3.8, 5.9, 1.0), (3.0, 6.4, 1.0), (1.8, 6.2, 1.0), (3.8, 7.1, 1.0), (5.8, 6.9, 1.0), (2.5, 8.0, 1.0), (5.0, 8.2, 1.0), (7.4, 8.4, 1.0), (8.5, 7.3, 1.0), (10.0, 7.1, 1.0), (1.0, 7.2, 1.0), (0.4, 7.6, 1.0), (2.0, 1.0, 0.0), (4.2, 0.95, 0.0), (6.0, 0.98, 0.0), (7.3, 0.5, 0.0), (6.7, 2.0, 0.0), (6.4, 3.0, 0.0), (6.2, 4.0, 0.0), (5.0, 4.5, 0.0), (4.0, 4.9, 0.0), (3.0, 5.1, 0.0), (2.3, 5.5, 0.0), (1.7, 4.5, 0.0), (5.5, 3.5, 0.0), (4.5, 3.9, 0.0), (3.5, 4.1, 0.0), (2.8, 4.6, 0.0), (4.0, 2.5, 0.0), (3.0, 2.9, 0.0), (2.0, 3.1, 0.0), (1.3, 3.6, 0.0), (5.3, 2.2, 0.0), (1.2, 2.0, 0.0), (3.0, 1.5, 0.0), (0.7, 5.6, 0.0), (0.4, 6.5, 0.0)]\n"
          ]
        }
      ]
    },
    {
      "cell_type": "markdown",
      "source": [
        "Visualizar distribuição endividamento x score_de_risco:\n",
        "\n",
        "x_zeros: lista com todos os x(endividamento) quando a saída(default) é 0\n",
        "\n",
        "y_zeros: lista com todos os y(score_de_risco) quando a saída(default) é 0\n",
        "\n",
        "x_ones: lista com todos os x(endividamento) quando a saída(default) é 1\n",
        "\n",
        "y_ones: lista com todos os y(score_de_risco) quando a saída(default) é 1"
      ],
      "metadata": {
        "id": "CCJ5vFg0gI2R"
      }
    },
    {
      "cell_type": "code",
      "source": [
        "import matplotlib.pyplot as plt\n",
        "\n",
        "# Separate data based on labels\n",
        "x_zeros = [d[0] for d in data if d[2] == 0]\n",
        "y_zeros = [d[1] for d in data if d[2] == 0]\n",
        "x_ones = [d[0] for d in data if d[2] == 1]\n",
        "y_ones = [d[1] for d in data if d[2] == 1]\n",
        "\n",
        "# Create the scatter plot\n",
        "plt.scatter(x_zeros, y_zeros, marker='x', label='0s')\n",
        "plt.scatter(x_ones, y_ones, marker='.', label='1s')\n",
        "\n",
        "# Add labels and title\n",
        "plt.xlabel('endividamento')\n",
        "plt.ylabel('score de risco')\n",
        "plt.title('endividamento x score de risco')\n",
        "\n",
        "# Add legend\n",
        "plt.legend()\n",
        "\n",
        "# Show the plot\n",
        "plt.show()"
      ],
      "metadata": {
        "colab": {
          "base_uri": "https://localhost:8080/",
          "height": 472
        },
        "id": "96B39fjzOt7e",
        "outputId": "a61a83b6-ba4d-46af-bb2a-9408b3f1e174"
      },
      "execution_count": 45,
      "outputs": [
        {
          "output_type": "display_data",
          "data": {
            "text/plain": [
              "<Figure size 640x480 with 1 Axes>"
            ],
            "image/png": "[encoded data removed]"
          },
          "metadata": {}
        }
      ]
    },
    {
      "cell_type": "markdown",
      "source": [
        "Os dados estavam como lista, aqui a gente passa a usá-lo como dataframe, ou seja, tabelas tipo ABT.\n",
        "\n",
        "abt_default.sample(11) → devolve 11 linhas aleatórias do DataFrame (sem reposição, por padrão), mantendo os índices originais.\n",
        "\n",
        "abt_default.sample(11).head() → primeiro sorteia 11 linhas aleatórias e depois mostra só as primeiras 5 dessas 11 (porque head() sem argumento = 5)."
      ],
      "metadata": {
        "id": "5j8jhrZymyBX"
      }
    },
    {
      "cell_type": "code",
      "source": [
        "import pandas as pd\n",
        "import numpy as np"
      ],
      "metadata": {
        "id": "mM46ty3UvCUy"
      },
      "execution_count": 46,
      "outputs": []
    },
    {
      "cell_type": "code",
      "source": [
        "abt_default = pd.DataFrame(data, columns=['endividamento', 'score_de_risco', 'default'])\n",
        "abt_default.sample(50).head(6)"
      ],
      "metadata": {
        "colab": {
          "base_uri": "https://localhost:8080/",
          "height": 238
        },
        "id": "FP2h5tARu4SZ",
        "outputId": "91b4fc24-7a06-4420-b8f4-1a23c880fb14"
      },
      "execution_count": 47,
      "outputs": [
        {
          "output_type": "execute_result",
          "data": {
            "text/plain": [
              "    endividamento  score_de_risco  default\n",
              "20            3.0             6.4      1.0\n",
              "13            7.6             6.0      1.0\n",
              "21            1.8             6.2      1.0\n",
              "54            0.7             5.6      0.0\n",
              "41            2.3             5.5      0.0\n",
              "22            3.8             7.1      1.0"
            ],
            "text/html": [
              "\n",
              "  <div id=\"df-020bb125-3395-4a88-866b-59ef1f568d34\" class=\"colab-df-container\">\n",
              "    <div>\n",
              "<style scoped>\n",
              "    .dataframe tbody tr th:only-of-type {\n",
              "        vertical-align: middle;\n",
              "    }\n",
              "\n",
              "    .dataframe tbody tr th {\n",
              "        vertical-align: top;\n",
              "    }\n",
              "\n",
              "    .dataframe thead th {\n",
              "        text-align: right;\n",
              "    }\n",
              "</style>\n",
              "<table border=\"1\" class=\"dataframe\">\n",
              "  <thead>\n",
              "    <tr style=\"text-align: right;\">\n",
              "      <th></th>\n",
              "      <th>endividamento</th>\n",
              "      <th>score_de_risco</th>\n",
              "      <th>default</th>\n",
              "    </tr>\n",
              "  </thead>\n",
              "  <tbody>\n",
              "    <tr>\n",
              "      <th>20</th>\n",
              "      <td>3.0</td>\n",
              "      <td>6.4</td>\n",
              "      <td>1.0</td>\n",
              "    </tr>\n",
              "    <tr>\n",
              "      <th>13</th>\n",
              "      <td>7.6</td>\n",
              "      <td>6.0</td>\n",
              "      <td>1.0</td>\n",
              "    </tr>\n",
              "    <tr>\n",
              "      <th>21</th>\n",
              "      <td>1.8</td>\n",
              "      <td>6.2</td>\n",
              "      <td>1.0</td>\n",
              "    </tr>\n",
              "    <tr>\n",
              "      <th>54</th>\n",
              "      <td>0.7</td>\n",
              "      <td>5.6</td>\n",
              "      <td>0.0</td>\n",
              "    </tr>\n",
              "    <tr>\n",
              "      <th>41</th>\n",
              "      <td>2.3</td>\n",
              "      <td>5.5</td>\n",
              "      <td>0.0</td>\n",
              "    </tr>\n",
              "    <tr>\n",
              "      <th>22</th>\n",
              "      <td>3.8</td>\n",
              "      <td>7.1</td>\n",
              "      <td>1.0</td>\n",
              "    </tr>\n",
              "  </tbody>\n",
              "</table>\n",
              "</div>\n",
              "    <div class=\"colab-df-buttons\">\n",
              "\n",
              "  <div class=\"colab-df-container\">\n",
              "    <button class=\"colab-df-convert\" onclick=\"convertToInteractive('df-020bb125-3395-4a88-866b-59ef1f568d34')\"\n",
              "            title=\"Convert this dataframe to an interactive table.\"\n",
              "            style=\"display:none;\">\n",
              "\n",
              "  <svg xmlns=\"http://www.w3.org/2000/svg\" height=\"24px\" viewBox=\"0 -960 960 960\">\n",
              "    <path d=\"M120-120v-720h720v720H120Zm60-500h600v-160H180v160Zm220 220h160v-160H400v160Zm0 220h160v-160H400v160ZM180-400h160v-160H180v160Zm440 0h160v-160H620v160ZM180-180h160v-160H180v160Zm440 0h160v-160H620v160Z\"/>\n",
              "  </svg>\n",
              "    </button>\n",
              "\n",
              "  <style>\n",
              "    .colab-df-container {\n",
              "      display:flex;\n",
              "      gap: 12px;\n",
              "    }\n",
              "\n",
              "    .colab-df-convert {\n",
              "      background-color: #E8F0FE;\n",
              "      border: none;\n",
              "      border-radius: 50%;\n",
              "      cursor: pointer;\n",
              "      display: none;\n",
              "      fill: #1967D2;\n",
              "      height: 32px;\n",
              "      padding: 0 0 0 0;\n",
              "      width: 32px;\n",
              "    }\n",
              "\n",
              "    .colab-df-convert:hover {\n",
              "      background-color: #E2EBFA;\n",
              "      box-shadow: 0px 1px 2px rgba(60, 64, 67, 0.3), 0px 1px 3px 1px rgba(60, 64, 67, 0.15);\n",
              "      fill: #174EA6;\n",
              "    }\n",
              "\n",
              "    .colab-df-buttons div {\n",
              "      margin-bottom: 4px;\n",
              "    }\n",
              "\n",
              "    [theme=dark] .colab-df-convert {\n",
              "      background-color: #3B4455;\n",
              "      fill: #D2E3FC;\n",
              "    }\n",
              "\n",
              "    [theme=dark] .colab-df-convert:hover {\n",
              "      background-color: #434B5C;\n",
              "      box-shadow: 0px 1px 3px 1px rgba(0, 0, 0, 0.15);\n",
              "      filter: drop-shadow(0px 1px 2px rgba(0, 0, 0, 0.3));\n",
              "      fill: #FFFFFF;\n",
              "    }\n",
              "  </style>\n",
              "\n",
              "    <script>\n",
              "      const buttonEl =\n",
              "        document.querySelector('#df-020bb125-3395-4a88-866b-59ef1f568d34 button.colab-df-convert');\n",
              "      buttonEl.style.display =\n",
              "        google.colab.kernel.accessAllowed ? 'block' : 'none';\n",
              "\n",
              "      async function convertToInteractive(key) {\n",
              "        const element = document.querySelector('#df-020bb125-3395-4a88-866b-59ef1f568d34');\n",
              "        const dataTable =\n",
              "          await google.colab.kernel.invokeFunction('convertToInteractive',\n",
              "                                                    [key], {});\n",
              "        if (!dataTable) return;\n",
              "\n",
              "        const docLinkHtml = 'Like what you see? Visit the ' +\n",
              "          '<a target=\"_blank\" href=https://colab.research.google.com/notebooks/data_table.ipynb>data table notebook</a>'\n",
              "          + ' to learn more about interactive tables.';\n",
              "        element.innerHTML = '';\n",
              "        dataTable['output_type'] = 'display_data';\n",
              "        await google.colab.output.renderOutput(dataTable, element);\n",
              "        const docLink = document.createElement('div');\n",
              "        docLink.innerHTML = docLinkHtml;\n",
              "        element.appendChild(docLink);\n",
              "      }\n",
              "    </script>\n",
              "  </div>\n",
              "\n",
              "\n",
              "    <div id=\"df-41f3f60d-e5ff-4c4a-88eb-bb880111c3fc\">\n",
              "      <button class=\"colab-df-quickchart\" onclick=\"quickchart('df-41f3f60d-e5ff-4c4a-88eb-bb880111c3fc')\"\n",
              "                title=\"Suggest charts\"\n",
              "                style=\"display:none;\">\n",
              "\n",
              "<svg xmlns=\"http://www.w3.org/2000/svg\" height=\"24px\"viewBox=\"0 0 24 24\"\n",
              "     width=\"24px\">\n",
              "    <g>\n",
              "        <path d=\"M19 3H5c-1.1 0-2 .9-2 2v14c0 1.1.9 2 2 2h14c1.1 0 2-.9 2-2V5c0-1.1-.9-2-2-2zM9 17H7v-7h2v7zm4 0h-2V7h2v10zm4 0h-2v-4h2v4z\"/>\n",
              "    </g>\n",
              "</svg>\n",
              "      </button>\n",
              "\n",
              "<style>\n",
              "  .colab-df-quickchart {\n",
              "      --bg-color: #E8F0FE;\n",
              "      --fill-color: #1967D2;\n",
              "      --hover-bg-color: #E2EBFA;\n",
              "      --hover-fill-color: #174EA6;\n",
              "      --disabled-fill-color: #AAA;\n",
              "      --disabled-bg-color: #DDD;\n",
              "  }\n",
              "\n",
              "  [theme=dark] .colab-df-quickchart {\n",
              "      --bg-color: #3B4455;\n",
              "      --fill-color: #D2E3FC;\n",
              "      --hover-bg-color: #434B5C;\n",
              "      --hover-fill-color: #FFFFFF;\n",
              "      --disabled-bg-color: #3B4455;\n",
              "      --disabled-fill-color: #666;\n",
              "  }\n",
              "\n",
              "  .colab-df-quickchart {\n",
              "    background-color: var(--bg-color);\n",
              "    border: none;\n",
              "    border-radius: 50%;\n",
              "    cursor: pointer;\n",
              "    display: none;\n",
              "    fill: var(--fill-color);\n",
              "    height: 32px;\n",
              "    padding: 0;\n",
              "    width: 32px;\n",
              "  }\n",
              "\n",
              "  .colab-df-quickchart:hover {\n",
              "    background-color: var(--hover-bg-color);\n",
              "    box-shadow: 0 1px 2px rgba(60, 64, 67, 0.3), 0 1px 3px 1px rgba(60, 64, 67, 0.15);\n",
              "    fill: var(--button-hover-fill-color);\n",
              "  }\n",
              "\n",
              "  .colab-df-quickchart-complete:disabled,\n",
              "  .colab-df-quickchart-complete:disabled:hover {\n",
              "    background-color: var(--disabled-bg-color);\n",
              "    fill: var(--disabled-fill-color);\n",
              "    box-shadow: none;\n",
              "  }\n",
              "\n",
              "  .colab-df-spinner {\n",
              "    border: 2px solid var(--fill-color);\n",
              "    border-color: transparent;\n",
              "    border-bottom-color: var(--fill-color);\n",
              "    animation:\n",
              "      spin 1s steps(1) infinite;\n",
              "  }\n",
              "\n",
              "  @keyframes spin {\n",
              "    0% {\n",
              "      border-color: transparent;\n",
              "      border-bottom-color: var(--fill-color);\n",
              "      border-left-color: var(--fill-color);\n",
              "    }\n",
              "    20% {\n",
              "      border-color: transparent;\n",
              "      border-left-color: var(--fill-color);\n",
              "      border-top-color: var(--fill-color);\n",
              "    }\n",
              "    30% {\n",
              "      border-color: transparent;\n",
              "      border-left-color: var(--fill-color);\n",
              "      border-top-color: var(--fill-color);\n",
              "      border-right-color: var(--fill-color);\n",
              "    }\n",
              "    40% {\n",
              "      border-color: transparent;\n",
              "      border-right-color: var(--fill-color);\n",
              "      border-top-color: var(--fill-color);\n",
              "    }\n",
              "    60% {\n",
              "      border-color: transparent;\n",
              "      border-right-color: var(--fill-color);\n",
              "    }\n",
              "    80% {\n",
              "      border-color: transparent;\n",
              "      border-right-color: var(--fill-color);\n",
              "      border-bottom-color: var(--fill-color);\n",
              "    }\n",
              "    90% {\n",
              "      border-color: transparent;\n",
              "      border-bottom-color: var(--fill-color);\n",
              "    }\n",
              "  }\n",
              "</style>\n",
              "\n",
              "      <script>\n",
              "        async function quickchart(key) {\n",
              "          const quickchartButtonEl =\n",
              "            document.querySelector('#' + key + ' button');\n",
              "          quickchartButtonEl.disabled = true;  // To prevent multiple clicks.\n",
              "          quickchartButtonEl.classList.add('colab-df-spinner');\n",
              "          try {\n",
              "            const charts = await google.colab.kernel.invokeFunction(\n",
              "                'suggestCharts', [key], {});\n",
              "          } catch (error) {\n",
              "            console.error('Error during call to suggestCharts:', error);\n",
              "          }\n",
              "          quickchartButtonEl.classList.remove('colab-df-spinner');\n",
              "          quickchartButtonEl.classList.add('colab-df-quickchart-complete');\n",
              "        }\n",
              "        (() => {\n",
              "          let quickchartButtonEl =\n",
              "            document.querySelector('#df-41f3f60d-e5ff-4c4a-88eb-bb880111c3fc button');\n",
              "          quickchartButtonEl.style.display =\n",
              "            google.colab.kernel.accessAllowed ? 'block' : 'none';\n",
              "        })();\n",
              "      </script>\n",
              "    </div>\n",
              "\n",
              "    </div>\n",
              "  </div>\n"
            ],
            "application/vnd.google.colaboratory.intrinsic+json": {
              "type": "dataframe",
              "summary": "{\n  \"name\": \"abt_default\",\n  \"rows\": 6,\n  \"fields\": [\n    {\n      \"column\": \"endividamento\",\n      \"properties\": {\n        \"dtype\": \"number\",\n        \"std\": 2.3991665219404843,\n        \"min\": 0.7,\n        \"max\": 7.6,\n        \"num_unique_values\": 6,\n        \"samples\": [\n          3.0,\n          7.6,\n          3.8\n        ],\n        \"semantic_type\": \"\",\n        \"description\": \"\"\n      }\n    },\n    {\n      \"column\": \"score_de_risco\",\n      \"properties\": {\n        \"dtype\": \"number\",\n        \"std\": 0.5853773711604051,\n        \"min\": 5.5,\n        \"max\": 7.1,\n        \"num_unique_values\": 6,\n        \"samples\": [\n          6.4,\n          6.0,\n          7.1\n        ],\n        \"semantic_type\": \"\",\n        \"description\": \"\"\n      }\n    },\n    {\n      \"column\": \"default\",\n      \"properties\": {\n        \"dtype\": \"number\",\n        \"std\": 0.5163977794943223,\n        \"min\": 0.0,\n        \"max\": 1.0,\n        \"num_unique_values\": 2,\n        \"samples\": [\n          0.0,\n          1.0\n        ],\n        \"semantic_type\": \"\",\n        \"description\": \"\"\n      }\n    }\n  ]\n}"
            }
          },
          "metadata": {},
          "execution_count": 47
        }
      ]
    },
    {
      "cell_type": "code",
      "source": [
        "abt_default.describe()"
      ],
      "metadata": {
        "colab": {
          "base_uri": "https://localhost:8080/",
          "height": 300
        },
        "id": "3MY_Vgb4vH2b",
        "outputId": "e041eed5-a600-450a-c0d8-73bd678a9a72"
      },
      "execution_count": 48,
      "outputs": [
        {
          "output_type": "execute_result",
          "data": {
            "text/plain": [
              "       endividamento  score_de_risco    default\n",
              "count      56.000000       56.000000  56.000000\n",
              "mean        5.341071        4.342500   0.553571\n",
              "std         2.878496        2.152868   0.501621\n",
              "min         0.400000        0.450000   0.000000\n",
              "25%         3.000000        2.500000   0.000000\n",
              "50%         5.400000        4.550000   1.000000\n",
              "75%         7.650000        5.925000   1.000000\n",
              "max        10.100000        8.400000   1.000000"
            ],
            "text/html": [
              "\n",
              "  <div id=\"df-1a2187a6-c6ed-4746-8df0-2f349aee5b9e\" class=\"colab-df-container\">\n",
              "    <div>\n",
              "<style scoped>\n",
              "    .dataframe tbody tr th:only-of-type {\n",
              "        vertical-align: middle;\n",
              "    }\n",
              "\n",
              "    .dataframe tbody tr th {\n",
              "        vertical-align: top;\n",
              "    }\n",
              "\n",
              "    .dataframe thead th {\n",
              "        text-align: right;\n",
              "    }\n",
              "</style>\n",
              "<table border=\"1\" class=\"dataframe\">\n",
              "  <thead>\n",
              "    <tr style=\"text-align: right;\">\n",
              "      <th></th>\n",
              "      <th>endividamento</th>\n",
              "      <th>score_de_risco</th>\n",
              "      <th>default</th>\n",
              "    </tr>\n",
              "  </thead>\n",
              "  <tbody>\n",
              "    <tr>\n",
              "      <th>count</th>\n",
              "      <td>56.000000</td>\n",
              "      <td>56.000000</td>\n",
              "      <td>56.000000</td>\n",
              "    </tr>\n",
              "    <tr>\n",
              "      <th>mean</th>\n",
              "      <td>5.341071</td>\n",
              "      <td>4.342500</td>\n",
              "      <td>0.553571</td>\n",
              "    </tr>\n",
              "    <tr>\n",
              "      <th>std</th>\n",
              "      <td>2.878496</td>\n",
              "      <td>2.152868</td>\n",
              "      <td>0.501621</td>\n",
              "    </tr>\n",
              "    <tr>\n",
              "      <th>min</th>\n",
              "      <td>0.400000</td>\n",
              "      <td>0.450000</td>\n",
              "      <td>0.000000</td>\n",
              "    </tr>\n",
              "    <tr>\n",
              "      <th>25%</th>\n",
              "      <td>3.000000</td>\n",
              "      <td>2.500000</td>\n",
              "      <td>0.000000</td>\n",
              "    </tr>\n",
              "    <tr>\n",
              "      <th>50%</th>\n",
              "      <td>5.400000</td>\n",
              "      <td>4.550000</td>\n",
              "      <td>1.000000</td>\n",
              "    </tr>\n",
              "    <tr>\n",
              "      <th>75%</th>\n",
              "      <td>7.650000</td>\n",
              "      <td>5.925000</td>\n",
              "      <td>1.000000</td>\n",
              "    </tr>\n",
              "    <tr>\n",
              "      <th>max</th>\n",
              "      <td>10.100000</td>\n",
              "      <td>8.400000</td>\n",
              "      <td>1.000000</td>\n",
              "    </tr>\n",
              "  </tbody>\n",
              "</table>\n",
              "</div>\n",
              "    <div class=\"colab-df-buttons\">\n",
              "\n",
              "  <div class=\"colab-df-container\">\n",
              "    <button class=\"colab-df-convert\" onclick=\"convertToInteractive('df-1a2187a6-c6ed-4746-8df0-2f349aee5b9e')\"\n",
              "            title=\"Convert this dataframe to an interactive table.\"\n",
              "            style=\"display:none;\">\n",
              "\n",
              "  <svg xmlns=\"http://www.w3.org/2000/svg\" height=\"24px\" viewBox=\"0 -960 960 960\">\n",
              "    <path d=\"M120-120v-720h720v720H120Zm60-500h600v-160H180v160Zm220 220h160v-160H400v160Zm0 220h160v-160H400v160ZM180-400h160v-160H180v160Zm440 0h160v-160H620v160ZM180-180h160v-160H180v160Zm440 0h160v-160H620v160Z\"/>\n",
              "  </svg>\n",
              "    </button>\n",
              "\n",
              "  <style>\n",
              "    .colab-df-container {\n",
              "      display:flex;\n",
              "      gap: 12px;\n",
              "    }\n",
              "\n",
              "    .colab-df-convert {\n",
              "      background-color: #E8F0FE;\n",
              "      border: none;\n",
              "      border-radius: 50%;\n",
              "      cursor: pointer;\n",
              "      display: none;\n",
              "      fill: #1967D2;\n",
              "      height: 32px;\n",
              "      padding: 0 0 0 0;\n",
              "      width: 32px;\n",
              "    }\n",
              "\n",
              "    .colab-df-convert:hover {\n",
              "      background-color: #E2EBFA;\n",
              "      box-shadow: 0px 1px 2px rgba(60, 64, 67, 0.3), 0px 1px 3px 1px rgba(60, 64, 67, 0.15);\n",
              "      fill: #174EA6;\n",
              "    }\n",
              "\n",
              "    .colab-df-buttons div {\n",
              "      margin-bottom: 4px;\n",
              "    }\n",
              "\n",
              "    [theme=dark] .colab-df-convert {\n",
              "      background-color: #3B4455;\n",
              "      fill: #D2E3FC;\n",
              "    }\n",
              "\n",
              "    [theme=dark] .colab-df-convert:hover {\n",
              "      background-color: #434B5C;\n",
              "      box-shadow: 0px 1px 3px 1px rgba(0, 0, 0, 0.15);\n",
              "      filter: drop-shadow(0px 1px 2px rgba(0, 0, 0, 0.3));\n",
              "      fill: #FFFFFF;\n",
              "    }\n",
              "  </style>\n",
              "\n",
              "    <script>\n",
              "      const buttonEl =\n",
              "        document.querySelector('#df-1a2187a6-c6ed-4746-8df0-2f349aee5b9e button.colab-df-convert');\n",
              "      buttonEl.style.display =\n",
              "        google.colab.kernel.accessAllowed ? 'block' : 'none';\n",
              "\n",
              "      async function convertToInteractive(key) {\n",
              "        const element = document.querySelector('#df-1a2187a6-c6ed-4746-8df0-2f349aee5b9e');\n",
              "        const dataTable =\n",
              "          await google.colab.kernel.invokeFunction('convertToInteractive',\n",
              "                                                    [key], {});\n",
              "        if (!dataTable) return;\n",
              "\n",
              "        const docLinkHtml = 'Like what you see? Visit the ' +\n",
              "          '<a target=\"_blank\" href=https://colab.research.google.com/notebooks/data_table.ipynb>data table notebook</a>'\n",
              "          + ' to learn more about interactive tables.';\n",
              "        element.innerHTML = '';\n",
              "        dataTable['output_type'] = 'display_data';\n",
              "        await google.colab.output.renderOutput(dataTable, element);\n",
              "        const docLink = document.createElement('div');\n",
              "        docLink.innerHTML = docLinkHtml;\n",
              "        element.appendChild(docLink);\n",
              "      }\n",
              "    </script>\n",
              "  </div>\n",
              "\n",
              "\n",
              "    <div id=\"df-ecf945fe-32f4-4984-9a4a-32688cf85b63\">\n",
              "      <button class=\"colab-df-quickchart\" onclick=\"quickchart('df-ecf945fe-32f4-4984-9a4a-32688cf85b63')\"\n",
              "                title=\"Suggest charts\"\n",
              "                style=\"display:none;\">\n",
              "\n",
              "<svg xmlns=\"http://www.w3.org/2000/svg\" height=\"24px\"viewBox=\"0 0 24 24\"\n",
              "     width=\"24px\">\n",
              "    <g>\n",
              "        <path d=\"M19 3H5c-1.1 0-2 .9-2 2v14c0 1.1.9 2 2 2h14c1.1 0 2-.9 2-2V5c0-1.1-.9-2-2-2zM9 17H7v-7h2v7zm4 0h-2V7h2v10zm4 0h-2v-4h2v4z\"/>\n",
              "    </g>\n",
              "</svg>\n",
              "      </button>\n",
              "\n",
              "<style>\n",
              "  .colab-df-quickchart {\n",
              "      --bg-color: #E8F0FE;\n",
              "      --fill-color: #1967D2;\n",
              "      --hover-bg-color: #E2EBFA;\n",
              "      --hover-fill-color: #174EA6;\n",
              "      --disabled-fill-color: #AAA;\n",
              "      --disabled-bg-color: #DDD;\n",
              "  }\n",
              "\n",
              "  [theme=dark] .colab-df-quickchart {\n",
              "      --bg-color: #3B4455;\n",
              "      --fill-color: #D2E3FC;\n",
              "      --hover-bg-color: #434B5C;\n",
              "      --hover-fill-color: #FFFFFF;\n",
              "      --disabled-bg-color: #3B4455;\n",
              "      --disabled-fill-color: #666;\n",
              "  }\n",
              "\n",
              "  .colab-df-quickchart {\n",
              "    background-color: var(--bg-color);\n",
              "    border: none;\n",
              "    border-radius: 50%;\n",
              "    cursor: pointer;\n",
              "    display: none;\n",
              "    fill: var(--fill-color);\n",
              "    height: 32px;\n",
              "    padding: 0;\n",
              "    width: 32px;\n",
              "  }\n",
              "\n",
              "  .colab-df-quickchart:hover {\n",
              "    background-color: var(--hover-bg-color);\n",
              "    box-shadow: 0 1px 2px rgba(60, 64, 67, 0.3), 0 1px 3px 1px rgba(60, 64, 67, 0.15);\n",
              "    fill: var(--button-hover-fill-color);\n",
              "  }\n",
              "\n",
              "  .colab-df-quickchart-complete:disabled,\n",
              "  .colab-df-quickchart-complete:disabled:hover {\n",
              "    background-color: var(--disabled-bg-color);\n",
              "    fill: var(--disabled-fill-color);\n",
              "    box-shadow: none;\n",
              "  }\n",
              "\n",
              "  .colab-df-spinner {\n",
              "    border: 2px solid var(--fill-color);\n",
              "    border-color: transparent;\n",
              "    border-bottom-color: var(--fill-color);\n",
              "    animation:\n",
              "      spin 1s steps(1) infinite;\n",
              "  }\n",
              "\n",
              "  @keyframes spin {\n",
              "    0% {\n",
              "      border-color: transparent;\n",
              "      border-bottom-color: var(--fill-color);\n",
              "      border-left-color: var(--fill-color);\n",
              "    }\n",
              "    20% {\n",
              "      border-color: transparent;\n",
              "      border-left-color: var(--fill-color);\n",
              "      border-top-color: var(--fill-color);\n",
              "    }\n",
              "    30% {\n",
              "      border-color: transparent;\n",
              "      border-left-color: var(--fill-color);\n",
              "      border-top-color: var(--fill-color);\n",
              "      border-right-color: var(--fill-color);\n",
              "    }\n",
              "    40% {\n",
              "      border-color: transparent;\n",
              "      border-right-color: var(--fill-color);\n",
              "      border-top-color: var(--fill-color);\n",
              "    }\n",
              "    60% {\n",
              "      border-color: transparent;\n",
              "      border-right-color: var(--fill-color);\n",
              "    }\n",
              "    80% {\n",
              "      border-color: transparent;\n",
              "      border-right-color: var(--fill-color);\n",
              "      border-bottom-color: var(--fill-color);\n",
              "    }\n",
              "    90% {\n",
              "      border-color: transparent;\n",
              "      border-bottom-color: var(--fill-color);\n",
              "    }\n",
              "  }\n",
              "</style>\n",
              "\n",
              "      <script>\n",
              "        async function quickchart(key) {\n",
              "          const quickchartButtonEl =\n",
              "            document.querySelector('#' + key + ' button');\n",
              "          quickchartButtonEl.disabled = true;  // To prevent multiple clicks.\n",
              "          quickchartButtonEl.classList.add('colab-df-spinner');\n",
              "          try {\n",
              "            const charts = await google.colab.kernel.invokeFunction(\n",
              "                'suggestCharts', [key], {});\n",
              "          } catch (error) {\n",
              "            console.error('Error during call to suggestCharts:', error);\n",
              "          }\n",
              "          quickchartButtonEl.classList.remove('colab-df-spinner');\n",
              "          quickchartButtonEl.classList.add('colab-df-quickchart-complete');\n",
              "        }\n",
              "        (() => {\n",
              "          let quickchartButtonEl =\n",
              "            document.querySelector('#df-ecf945fe-32f4-4984-9a4a-32688cf85b63 button');\n",
              "          quickchartButtonEl.style.display =\n",
              "            google.colab.kernel.accessAllowed ? 'block' : 'none';\n",
              "        })();\n",
              "      </script>\n",
              "    </div>\n",
              "\n",
              "    </div>\n",
              "  </div>\n"
            ],
            "application/vnd.google.colaboratory.intrinsic+json": {
              "type": "dataframe",
              "summary": "{\n  \"name\": \"abt_default\",\n  \"rows\": 8,\n  \"fields\": [\n    {\n      \"column\": \"endividamento\",\n      \"properties\": {\n        \"dtype\": \"number\",\n        \"std\": 18.290419011560566,\n        \"min\": 0.4,\n        \"max\": 56.0,\n        \"num_unique_values\": 8,\n        \"samples\": [\n          5.341071428571429,\n          5.4,\n          56.0\n        ],\n        \"semantic_type\": \"\",\n        \"description\": \"\"\n      }\n    },\n    {\n      \"column\": \"score_de_risco\",\n      \"properties\": {\n        \"dtype\": \"number\",\n        \"std\": 18.53017698363318,\n        \"min\": 0.45,\n        \"max\": 56.0,\n        \"num_unique_values\": 8,\n        \"samples\": [\n          4.3425,\n          4.55,\n          56.0\n        ],\n        \"semantic_type\": \"\",\n        \"description\": \"\"\n      }\n    },\n    {\n      \"column\": \"default\",\n      \"properties\": {\n        \"dtype\": \"number\",\n        \"std\": 19.598577941326006,\n        \"min\": 0.0,\n        \"max\": 56.0,\n        \"num_unique_values\": 5,\n        \"samples\": [\n          0.5535714285714286,\n          1.0,\n          0.5016207497934834\n        ],\n        \"semantic_type\": \"\",\n        \"description\": \"\"\n      }\n    }\n  ]\n}"
            }
          },
          "metadata": {},
          "execution_count": 48
        }
      ]
    },
    {
      "cell_type": "code",
      "source": [
        "import matplotlib.pyplot as plt\n",
        "import seaborn as sns\n",
        "\n",
        "# Create box plots for 'endividamento' and 'score_de_risco' by 'default'\n",
        "# fig, axes = plt.subplots(n_linhas, n_colunas, figsize=(largura, altura))\n",
        "# 1 → 1 linha de gráficos.\n",
        "# 2 → 2 colunas de gráficos.\n",
        "# figsize=(12, 5) → define o tamanho total da figura em polegadas (12 de largura e 5 de altura).\n",
        "fig, axes = plt.subplots(1, 2, figsize=(12, 5))\n",
        "\n",
        "sns.boxplot(x='default', y='endividamento', data=abt_default, ax=axes[0])\n",
        "axes[0].set_title('Box Plot of Endividamento by Default')\n",
        "axes[0].set_xlabel('Default')\n",
        "axes[0].set_ylabel('Endividamento')\n",
        "\n",
        "sns.boxplot(x='default', y='score_de_risco', data=abt_default, ax=axes[1])\n",
        "axes[1].set_title('Box Plot of Score de Risco by Default')\n",
        "axes[1].set_xlabel('Default')\n",
        "axes[1].set_ylabel('Score de Risco')\n",
        "\n",
        "plt.tight_layout()\n",
        "plt.show()"
      ],
      "metadata": {
        "colab": {
          "base_uri": "https://localhost:8080/",
          "height": 507
        },
        "id": "sVw1koLBvqQh",
        "outputId": "fa1500d1-fb94-4737-974c-a35b02b791bc"
      },
      "execution_count": 49,
      "outputs": [
        {
          "output_type": "display_data",
          "data": {
            "text/plain": [
              "<Figure size 1200x500 with 2 Axes>"
            ],
            "image/png": "[encoded data removed]"
          },
          "metadata": {}
        }
      ]
    },
    {
      "cell_type": "markdown",
      "source": [
        "## Modelo de Regressão Logística (sklearn)\n",
        "\n",
        "train_test_split: a função divide os dados em dois conjuntos:\n",
        "\n",
        "1) treinamento (train) → usados para o modelo aprender.\n",
        "\n",
        "2) teste (test) → usados para avaliar se o modelo aprendeu bem.\n",
        "\n",
        "3) X = abt_default[['endividamento', 'score_de_risco']]\n",
        "\n",
        "4) y = abt_default['default']\n",
        "\n",
        "5) Define o tamanho do conjunto de teste :0.2 → significa 20% dos dados para teste e 80% para treino.\n",
        "\n",
        "6) Semente aleatória (número fixo para repetir o mesmo sorteio)."
      ],
      "metadata": {
        "id": "GkCgJIP0upQG"
      }
    },
    {
      "cell_type": "code",
      "source": [
        "from sklearn.linear_model import LogisticRegression\n",
        "from sklearn.model_selection import train_test_split\n",
        "\n",
        "# Prepare the data from the abt_default DataFrame\n",
        "# X should be a 2D array of features (endividamento, score_de_risco)\n",
        "# y should be a 1D array of the target variable (default)\n",
        "X = abt_default[['endividamento', 'score_de_risco']].values\n",
        "y = abt_default['default'].values\n",
        "\n",
        "# Split the data into training and testing sets\n",
        "\n",
        "X_train, X_test, y_train, y_test = train_test_split(X, y, test_size=0.2, random_state=42)\n",
        "\n",
        "# Criação do modelo\n",
        "# Cria uma instância vazia do modelo de regressão logística da biblioteca sklearn\n",
        "# a regressão logística tem uma estrutura fixa e pequena, então a “instância vazia” já traz tudo o que é necessário,\n",
        "# diferente da rede neural\n",
        "lr_model = LogisticRegression()\n",
        "\n",
        "# Treino\n",
        "lr_model.fit(X_train, y_train)\n",
        "print(\"Logistic Regression model fitted successfully.\")\n",
        "\n",
        "# Predição - teste\n",
        "y_pred = lr_model.predict(X_test)\n",
        "y_prob = lr_model.predict_proba(X_test)\n",
        "\n",
        "# Inspeção do modelo\n",
        "print()\n",
        "print(abt_default.head())\n",
        "print()\n",
        "print(f\"Input - [endividamento, score_de_risco]\")\n",
        "print()\n",
        "print(f\"Logistic regression coefficients: {lr_model.coef_[0]}\")\n",
        "print(f\"Logistic regression bias: {lr_model.intercept_}\")\n",
        "print()"
      ],
      "metadata": {
        "colab": {
          "base_uri": "https://localhost:8080/"
        },
        "id": "U4JbI__QtwjK",
        "outputId": "9dc19c7a-0dd1-482a-c7ca-059fb56762e4"
      },
      "execution_count": 50,
      "outputs": [
        {
          "output_type": "stream",
          "name": "stdout",
          "text": [
            "Logistic Regression model fitted successfully.\n",
            "\n",
            "   endividamento  score_de_risco  default\n",
            "0            8.2            0.45      1.0\n",
            "1            9.4            1.30      1.0\n",
            "2           10.1            2.10      1.0\n",
            "3            8.4            1.70      1.0\n",
            "4            7.5            2.30      1.0\n",
            "\n",
            "Input - [endividamento, score_de_risco]\n",
            "\n",
            "Logistic regression coefficients: [1.08165416 1.56768623]\n",
            "Logistic regression bias: [-12.05604402]\n",
            "\n"
          ]
        }
      ]
    },
    {
      "cell_type": "markdown",
      "source": [
        "**Função Logística**\\\n",
        "$σ(z) = 1 / (1 + eˆ(-z)) $\\\n",
        "\\\n",
        "**Modelo Treinado**\\\n",
        "$z = 1.08 * endividamento + 1.57 * score\\_de\\_risco - 12.06$\\\n",
        "$p = σ(z) $"
      ],
      "metadata": {
        "id": "zazda28kM-zb"
      }
    },
    {
      "cell_type": "markdown",
      "source": [
        "## Modelo de Rede Neural (sklearn)"
      ],
      "metadata": {
        "id": "VNOStUlKu1kZ"
      }
    },
    {
      "cell_type": "code",
      "source": [
        "from sklearn.neural_network import MLPClassifier\n",
        "from sklearn.model_selection import train_test_split\n",
        "\n",
        "# Prepare the data from the abt_default DataFrame\n",
        "# X should be a 2D array of features (endividamento, score_de_risco)\n",
        "# y should be a 1D array of the target variable (default)\n",
        "X = abt_default[['endividamento', 'score_de_risco']].values\n",
        "y = abt_default['default'].values\n",
        "\n",
        "# Split the data into training and testing sets\n",
        "X_train, X_test, y_train, y_test = train_test_split(X, y, test_size=0.2, random_state=42)\n",
        "\n",
        "# Criação do modelo\n",
        "# Aqui precisamos definir os hiperparâmetros - definir como será a rede\n",
        "nn_model = MLPClassifier(hidden_layer_sizes=(2,),  # 1 camada oculta com 2 neurônios\n",
        "                         max_iter=1000, # número máximo de iterações para convergência\n",
        "                         random_state=42, # para reprodutibilidade - semente aleatória\n",
        "                         activation='logistic' # função de ativação sigmoide (σ)\n",
        "                         )\n",
        "\n",
        "# Treino\n",
        "nn_model.fit(X_train, y_train)\n",
        "print(\"Neural Network model fitted successfully.\")\n",
        "\n",
        "# Predição - teste\n",
        "y_pred_nn = nn_model.predict(X_test)\n",
        "y_prob_nn = nn_model.predict_proba(X_test)\n",
        "\n",
        "# You can also access the model's coefficients and intercept\n",
        "print()\n",
        "print(abt_default.head())\n",
        "print()\n",
        "print(f\"Layer 0 (input) - [endividamento, score_de_risco]\")\n",
        "print()\n",
        "print(f\"Layer 1 (hidden) coefficients - neuron 1: {np.array([w[0] for w in nn_model.coefs_[0]])} | neuron 2: {np.array([w[1] for w in nn_model.coefs_[0]])}\")\n",
        "print(f\"Layer 1 (hidden) biases   - neuron 1: {nn_model.intercepts_[0][0]} | neuron 2: {nn_model.intercepts_[0][1]}\")\n",
        "print()\n",
        "print(f\"Layer 2 (output) coefficients - neuron 1: {np.array([w[0] for w in nn_model.coefs_[1]])}\")\n",
        "print(f\"Layer 2 (output) biases   - neuron 1: {nn_model.intercepts_[1][0]}\")\n",
        "print()"
      ],
      "metadata": {
        "colab": {
          "base_uri": "https://localhost:8080/"
        },
        "id": "XaN0Ql0dxNS0",
        "outputId": "4677fcbc-a4d3-449f-f4cf-a80466ca7e4f"
      },
      "execution_count": 52,
      "outputs": [
        {
          "output_type": "stream",
          "name": "stdout",
          "text": [
            "Neural Network model fitted successfully.\n",
            "\n",
            "   endividamento  score_de_risco  default\n",
            "0            8.2            0.45      1.0\n",
            "1            9.4            1.30      1.0\n",
            "2           10.1            2.10      1.0\n",
            "3            8.4            1.70      1.0\n",
            "4            7.5            2.30      1.0\n",
            "\n",
            "Layer 0 (input) - [endividamento, score_de_risco]\n",
            "\n",
            "Layer 1 (hidden) coefficients - neuron 1: [-0.18337553 -0.23116881] | neuron 2: [0.23413752 0.31804693]\n",
            "Layer 1 (hidden) biases   - neuron 1: 0.796458851201216 | neuron 2: -1.7286824759512847\n",
            "\n",
            "Layer 2 (output) coefficients - neuron 1: [-2.11456698  1.80660385]\n",
            "Layer 2 (output) biases   - neuron 1: -0.4915823492481401\n",
            "\n"
          ]
        },
        {
          "output_type": "stream",
          "name": "stderr",
          "text": [
            "/usr/local/lib/python3.12/dist-packages/sklearn/neural_network/_multilayer_perceptron.py:691: ConvergenceWarning: Stochastic Optimizer: Maximum iterations (1000) reached and the optimization hasn't converged yet.\n",
            "  warnings.warn(\n"
          ]
        }
      ]
    },
    {
      "cell_type": "markdown",
      "source": [
        "Mensagem: “O otimizador (algoritmo de treino) chegou no limite de iterações (max_iter=1000), mas ainda não convergiu completamente.”\n",
        "\n",
        "Ou seja:\n",
        "\n",
        "O modelo não parou por conta própria, ele foi forçado a parar no limite de 1000 iterações.\n",
        "\n",
        "Ele aprendeu bastante coisa, mas poderia melhorar se você deixasse rodar mais tempo (mais iterações)."
      ],
      "metadata": {
        "id": "wF_XByHxuVXG"
      }
    },
    {
      "cell_type": "markdown",
      "source": [
        "**Função Logística:**\\\n",
        "$σ(z) = 1 / (1 + eˆ(-z))$\\\n",
        "\\\n",
        "**Modelo Treinado:**\\\n",
        "\\\n",
        "**Camada oculta**\\\n",
        "$z_{1,1} = (-0.18 * endividamento) + (-0.23 * score\\_de\\_risco) + 0.80$\\\n",
        "$z_{1,2} = (0.23 * endividamento) + (0.32 * score\\_de\\_risco) -1.73$\\\n",
        "\\\n",
        "**Função sigmoide**\\\n",
        "$a_{1,1} = σ(z_{1,1})$\\\n",
        "$a_{1,2} = σ(z_{1,2})$\\\n",
        "\\\n",
        "**Camada de saída**\\\n",
        "$z_{2,1} = -2.11 * a_{1,1} + 1.81 * a_{1,2} -0.49$\\\n",
        "\\\n",
        "**Função sigmoide**\\\n",
        "$a_{2,1} = σ(z_{2,1})$\\\n",
        "\\\n",
        "**Saída final: o que chamamos de y^- a cuspida**\\\n",
        "$p = a_{2,1} $"
      ],
      "metadata": {
        "id": "IUw_sNk7PSmJ"
      }
    },
    {
      "cell_type": "markdown",
      "source": [
        "## Implementando lógica de inferência: fazendo a mão o que usamos do sklearn"
      ],
      "metadata": {
        "id": "pKAT5bBvu5nh"
      }
    },
    {
      "cell_type": "markdown",
      "source": [
        "Implementando lógica de inferência com os parâmetros aprendidos, a nível de curiosidade."
      ],
      "metadata": {
        "id": "QdYwFbIxvDnm"
      }
    },
    {
      "cell_type": "code",
      "source": [
        "def inferencia_nn_model(score_data):\n",
        "  z11 = -0.18337553  * score_data[:,0] -0.23116881 * score_data[:,1] + 0.796458851201216\n",
        "  z12 = 0.23413752 * score_data[:,0] + 0.31804693 * score_data[:,1] -1.7286824759512847\n",
        "\n",
        "  a11 = 1 / (1 + np.exp(-z11))\n",
        "  a12 = 1 / (1 + np.exp(-z12))\n",
        "\n",
        "  z21 = -2.11456698 * a11 + 1.80660385 * a12 -0.4915823492481401\n",
        "  a21 = 1 / (1 + np.exp(-z21))\n",
        "  p = a21\n",
        "\n",
        "  return p"
      ],
      "metadata": {
        "id": "GHSb1H-dU9yO"
      },
      "execution_count": 53,
      "outputs": []
    },
    {
      "cell_type": "markdown",
      "source": [
        "Comparando lógica criada com os métodos built-in do sklearn (`inferencia_nn_model(X_test)` e `nn_model.predict_proba(X_test)[:,1]` devem produzir o mesmo resutado)."
      ],
      "metadata": {
        "id": "NFk90g_pvLUE"
      }
    },
    {
      "cell_type": "code",
      "source": [
        "inferencia_nn_model(X_test)"
      ],
      "metadata": {
        "colab": {
          "base_uri": "https://localhost:8080/"
        },
        "id": "68A0apuFWw4z",
        "outputId": "055b1412-7960-41f3-919d-5dba5067b767"
      },
      "execution_count": 54,
      "outputs": [
        {
          "output_type": "execute_result",
          "data": {
            "text/plain": [
              "array([0.47772761, 0.61789031, 0.40682827, 0.69766192, 0.59306417,\n",
              "       0.34821554, 0.54619603, 0.73857127, 0.51557449, 0.71376414,\n",
              "       0.4433652 , 0.55800521])"
            ]
          },
          "metadata": {},
          "execution_count": 54
        }
      ]
    },
    {
      "cell_type": "code",
      "source": [
        "nn_model.predict_proba(X_test)[:,1]"
      ],
      "metadata": {
        "colab": {
          "base_uri": "https://localhost:8080/"
        },
        "id": "h6f35xYaW1Wd",
        "outputId": "e980b323-85f2-4b6c-dcf0-82de06c4d664"
      },
      "execution_count": 55,
      "outputs": [
        {
          "output_type": "execute_result",
          "data": {
            "text/plain": [
              "array([0.47772761, 0.61789031, 0.40682827, 0.69766191, 0.59306417,\n",
              "       0.34821554, 0.54619603, 0.73857127, 0.51557448, 0.71376414,\n",
              "       0.4433652 , 0.55800521])"
            ]
          },
          "metadata": {},
          "execution_count": 55
        }
      ]
    },
    {
      "cell_type": "code",
      "source": [
        "lr_model.predict_proba(X_test)[:,1]"
      ],
      "metadata": {
        "colab": {
          "base_uri": "https://localhost:8080/"
        },
        "id": "jvIFg4ciEjvx",
        "outputId": "c68929b2-6174-455c-e39c-0117d724d70f"
      },
      "execution_count": 56,
      "outputs": [
        {
          "output_type": "execute_result",
          "data": {
            "text/plain": [
              "array([0.07719943, 0.83174693, 0.01746758, 0.99620642, 0.78643865,\n",
              "       0.00665161, 0.39403113, 0.9998902 , 0.25452473, 0.99869642,\n",
              "       0.07447875, 0.42431551])"
            ]
          },
          "metadata": {},
          "execution_count": 56
        }
      ]
    },
    {
      "cell_type": "markdown",
      "source": [
        "## Demonstrando como a lógica pode ser implementada com uso de matrizes."
      ],
      "metadata": {
        "id": "JIz2t8uBvw04"
      }
    },
    {
      "cell_type": "markdown",
      "source": [
        "**Rede Neural - Método Forward - Forma Matricial**\n",
        "\n"
      ],
      "metadata": {
        "id": "JLrYbYgbBl4X"
      }
    },
    {
      "cell_type": "markdown",
      "source": [
        "![rede_neural_matricial.jpg](data:image/jpeg;base64,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)"
      ],
      "metadata": {
        "id": "3JRqxLmsAnln"
      }
    },
    {
      "cell_type": "markdown",
      "source": [
        "**Rede Neural - Método Forward - Forma Matricial - Exemplo**"
      ],
      "metadata": {
        "id": "H_PELK5OB1Qf"
      }
    },
    {
      "cell_type": "markdown",
      "source": [
        "![image.png](data:image/png;base64,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)"
      ],
      "metadata": {
        "id": "b32__oTbAnYW"
      }
    },
    {
      "cell_type": "markdown",
      "source": [
        "```\n",
        "def inferencia_nn_model(score_data):\n",
        "  z11 = -0.18337553  * score_data[:,0] -0.23116881 * score_data[:,1] + 0.796458851201216\n",
        "  z12 = 0.23413752 * score_data[:,0] + 0.31804693 * score_data[:,1] -1.7286824759512847\n",
        "  print(z11)\n",
        "  print(z12)\n",
        "  a11 = 1 / (1 + np.exp(-z11))\n",
        "  a12 = 1 / (1 + np.exp(-z12))\n",
        "\n",
        "  z21 = -2.11456698 * a11 + 1.80660385 * a12 -0.4915823492481401\n",
        "  a21 = 1 / (1 + np.exp(-z21))\n",
        "  p = a21\n",
        "\n",
        "  return p #chama de p por ser probabilidade\n",
        "```\n",
        "\n"
      ],
      "metadata": {
        "id": "Yh44JrmVB-H5"
      }
    },
    {
      "cell_type": "code",
      "source": [
        "def inferencia_nn_model_matricial(score_data):\n",
        "  W1 = np.matrix([\n",
        "      [-0.18337553, -0.23116881, 0.796458851201216],\n",
        "      [0.23413752, 0.31804693, -1.7286824759512847]\n",
        "      ])\n",
        "  W2 = np.matrix([[-2.11456698, 1.80660385, -0.4915823492481401]])\n",
        "\n",
        "  X = np.matrix(score_data)\n",
        "  X = np.hstack((X, np.ones((X.shape[0], 1))))\n",
        "\n",
        "  Z1 = W1 * X.T\n",
        "\n",
        "  A1 = 1 / (1 + np.exp(-Z1))\n",
        "  A1 = np.vstack((A1, np.ones((1, A1.shape[1]))))\n",
        "\n",
        "  Z2 = W2 * A1\n",
        "\n",
        "  A2 = 1 / (1 + np.exp(-Z2))\n",
        "\n",
        "  return A2.T"
      ],
      "metadata": {
        "id": "fam6TIwGzHO4"
      },
      "execution_count": 57,
      "outputs": []
    },
    {
      "cell_type": "code",
      "source": [
        "# entradas\n",
        "X_test"
      ],
      "metadata": {
        "colab": {
          "base_uri": "https://localhost:8080/"
        },
        "id": "GB7k2g0wKa0s",
        "outputId": "c56d4484-02a8-4433-bb5b-ca00bb0be189"
      },
      "execution_count": 58,
      "outputs": [
        {
          "output_type": "execute_result",
          "data": {
            "text/plain": [
              "array([[8.2 , 0.45],\n",
              "       [9.  , 2.5 ],\n",
              "       [6.  , 0.98],\n",
              "       [7.6 , 6.  ],\n",
              "       [3.8 , 5.9 ],\n",
              "       [1.3 , 3.6 ],\n",
              "       [6.4 , 3.  ],\n",
              "       [7.4 , 8.4 ],\n",
              "       [4.5 , 3.9 ],\n",
              "       [8.3 , 6.2 ],\n",
              "       [0.7 , 5.6 ],\n",
              "       [8.4 , 1.7 ]])"
            ]
          },
          "metadata": {},
          "execution_count": 58
        }
      ]
    },
    {
      "cell_type": "markdown",
      "source": [
        "Nota-se abaixo que a implementação usando matriz produz o mesmo resultado do que observamos anteriormente."
      ],
      "metadata": {
        "id": "XgyWCwlewADZ"
      }
    },
    {
      "cell_type": "code",
      "source": [
        "# probabilidade da saída \"default\" - y^\n",
        "inferencia_nn_model_matricial(X_test)"
      ],
      "metadata": {
        "colab": {
          "base_uri": "https://localhost:8080/"
        },
        "id": "kDtaN7zZ0_Jf",
        "outputId": "96d4c74a-64d3-4ff6-db2d-5b803b77bffb"
      },
      "execution_count": 59,
      "outputs": [
        {
          "output_type": "execute_result",
          "data": {
            "text/plain": [
              "matrix([[0.47772761],\n",
              "        [0.61789031],\n",
              "        [0.40682827],\n",
              "        [0.69766192],\n",
              "        [0.59306417],\n",
              "        [0.34821554],\n",
              "        [0.54619603],\n",
              "        [0.73857127],\n",
              "        [0.51557449],\n",
              "        [0.71376414],\n",
              "        [0.4433652 ],\n",
              "        [0.55800521]])"
            ]
          },
          "metadata": {},
          "execution_count": 59
        }
      ]
    },
    {
      "cell_type": "markdown",
      "source": [
        "## Avaliação e comparação entre os modelos"
      ],
      "metadata": {
        "id": "TaXS1ubbxBuQ"
      }
    },
    {
      "cell_type": "code",
      "source": [
        "from sklearn.metrics import accuracy_score, precision_score, recall_score, f1_score"
      ],
      "metadata": {
        "id": "mz_Ab262ateu"
      },
      "execution_count": 60,
      "outputs": []
    },
    {
      "cell_type": "code",
      "source": [
        "# Métricas de avaliação da Regressão linear\n",
        "accuracy_nn = accuracy_score(y_test, y_pred)\n",
        "precision_nn = precision_score(y_test, y_pred)\n",
        "recall_nn = recall_score(y_test, y_pred)\n",
        "f1_nn = f1_score(y_test, y_pred)\n",
        "\n",
        "print(f\"Accuracy (NN): {accuracy_nn:.4f}\")\n",
        "print(f\"Precision (NN): {precision_nn:.4f}\")\n",
        "print(f\"Recall (NN): {recall_nn:.4f}\")\n",
        "print(f\"F1-score (NN): {f1_nn:.4f}\")"
      ],
      "metadata": {
        "colab": {
          "base_uri": "https://localhost:8080/"
        },
        "id": "J7FqJPmd2brk",
        "outputId": "d6fd46a7-a621-4107-bcb3-2b840bfca84c"
      },
      "execution_count": 64,
      "outputs": [
        {
          "output_type": "stream",
          "name": "stdout",
          "text": [
            "Accuracy (NN): 0.8333\n",
            "Precision (NN): 1.0000\n",
            "Recall (NN): 0.7143\n",
            "F1-score (NN): 0.8333\n"
          ]
        }
      ]
    },
    {
      "cell_type": "code",
      "source": [
        "# Métricas de avaliação da Rede Neural\n",
        "accuracy_nn = accuracy_score(y_test, y_pred_nn)\n",
        "precision_nn = precision_score(y_test, y_pred_nn)\n",
        "recall_nn = recall_score(y_test, y_pred_nn)\n",
        "f1_nn = f1_score(y_test, y_pred_nn)\n",
        "\n",
        "print(f\"Accuracy (NN): {accuracy_nn:.4f}\")\n",
        "print(f\"Precision (NN): {precision_nn:.4f}\")\n",
        "print(f\"Recall (NN): {recall_nn:.4f}\")\n",
        "print(f\"F1-score (NN): {f1_nn:.4f}\")"
      ],
      "metadata": {
        "colab": {
          "base_uri": "https://localhost:8080/"
        },
        "id": "RC7CT5rsa2C3",
        "outputId": "93418ff5-b3a6-4c9e-e21d-afdec8bff003"
      },
      "execution_count": 62,
      "outputs": [
        {
          "output_type": "stream",
          "name": "stdout",
          "text": [
            "Accuracy (NN): 0.7500\n",
            "Precision (NN): 0.7500\n",
            "Recall (NN): 0.8571\n",
            "F1-score (NN): 0.8000\n"
          ]
        }
      ]
    },
    {
      "cell_type": "markdown",
      "source": [
        "O modelo com uma única camada oculta de 2 neurônios fica muito pior do que a regressão logística. Vamos criar um modelo de 2 camadas ocultas, contendo 16 e 8 neurônios respectivamente e utilizar tanh como função de ativação das camadas ocultas."
      ],
      "metadata": {
        "id": "V0Jv5CPuwUCi"
      }
    },
    {
      "cell_type": "code",
      "source": [
        "nn_model_2 = MLPClassifier(hidden_layer_sizes=(16,8), max_iter=1000, random_state=42, activation='tanh')\n",
        "\n",
        "# Train the model on the training data\n",
        "nn_model_2.fit(X_train, y_train)\n",
        "\n",
        "print(\"Neural Network model fitted successfully.\")\n",
        "\n",
        "# Make predictions on the test data\n",
        "y_pred_nn2 = nn_model_2.predict(X_test)\n",
        "y_prob_nn2 = nn_model_2.predict_proba(X_test)\n",
        "\n",
        "accuracy_nn = accuracy_score(y_test, y_pred_nn2)\n",
        "precision_nn = precision_score(y_test, y_pred_nn2)\n",
        "recall_nn = recall_score(y_test, y_pred_nn2)\n",
        "f1_nn = f1_score(y_test, y_pred_nn2)\n",
        "\n",
        "print(f\"Accuracy (NN2): {accuracy_nn:.4f}\")\n",
        "print(f\"Precision (NN2): {precision_nn:.4f}\")\n",
        "print(f\"Recall (NN2): {recall_nn:.4f}\")\n",
        "print(f\"F1-score (NN2): {f1_nn:.4f}\")"
      ],
      "metadata": {
        "colab": {
          "base_uri": "https://localhost:8080/"
        },
        "id": "D6oZgOf3bIWc",
        "outputId": "cb210c13-60b3-46dd-c586-2218c87c4d1b"
      },
      "execution_count": 65,
      "outputs": [
        {
          "output_type": "stream",
          "name": "stdout",
          "text": [
            "Neural Network model fitted successfully.\n",
            "Accuracy (NN2): 0.9167\n",
            "Precision (NN2): 1.0000\n",
            "Recall (NN2): 0.8571\n",
            "F1-score (NN2): 0.9231\n"
          ]
        }
      ]
    },
    {
      "cell_type": "markdown",
      "source": [
        "Com este último modelo, agora observa-se agora um ganho significativo com relação a regressão logística."
      ],
      "metadata": {
        "id": "pCSG0MChwzxU"
      }
    }
  ]
}